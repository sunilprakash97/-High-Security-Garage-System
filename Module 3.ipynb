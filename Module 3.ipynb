{
 "cells": [
  {
   "cell_type": "code",
   "execution_count": 1,
   "id": "d30560be",
   "metadata": {},
   "outputs": [],
   "source": [
    "# Module 3 - Libraries\n",
    "import time \n",
    "import sys \n",
    "import pubnub\n",
    "import asyncio\n",
    "import time\n",
    "from kasa import SmartPlug\n",
    "from pubnub.pubnub import PubNub, SubscribeListener, SubscribeCallback,PNStatusCategory \n",
    "from pubnub.pnconfiguration import PNConfiguration \n",
    "from pubnub.exceptions import PubNubException \n",
    "import warnings\n",
    "warnings.filterwarnings('ignore')"
   ]
  },
  {
   "cell_type": "code",
   "execution_count": 2,
   "id": "b7c876f0",
   "metadata": {},
   "outputs": [],
   "source": [
    "import asyncio\n",
    "import time\n",
    "from kasa import SmartPlug\n",
    "\n",
    "# Module 3 Execution\n",
    "def main():\n",
    "    pnconf = PNConfiguration()   \n",
    "    pnconf.publish_key = 'pub-c-47de1ea1-b0ba-462c-ba6a-1c4fa5371251'\n",
    "    pnconf.subscribe_key = 'sub-c-d5e026e5-08a6-401d-9651-a1ba89559278'\n",
    "    pnconf.uuid = 'Project'\n",
    "    channel = 'Project'\n",
    "    pubnub = PubNub(pnconf)\n",
    "    pubnub.add_listener(VFDSubscribeCallback())\n",
    "    pubnub.subscribe().channels(channel).execute()\n",
    "\n",
    "class light:\n",
    "    msg = \"\"\n",
    "    \n",
    "class VFDSubscribeCallback(SubscribeCallback):\n",
    "    def message(self, pubnub, event):\n",
    "        print(event.message)\n",
    "        remoteCommand = event.message[\"command\"]\n",
    "        channel = 'Project'\n",
    "\n",
    "        if remoteCommand == \"Allow\": \n",
    "            light.msg = \"on\"\n",
    "            pubnub.publish().channel(channel).message(\"Opening the Door!!!\").sync()\n",
    "            time.sleep(5)\n",
    "            pubnub.publish().channel(channel).message(\"Automatic Closing Door Activated\").sync()\n",
    "\n",
    "        elif remoteCommand == \"Deny\":\n",
    "            light.msg = \"off\"\n",
    "            pubnub.publish().channel(channel).message(\"Closing the Door\").sync()\n",
    "                \n",
    "async def call():\n",
    "    p = SmartPlug(\"192.168.0.242\")\n",
    "    \n",
    "    if (light.msg == \"on\"):\n",
    "        await p.turn_on()\n",
    "        time.sleep(3)\n",
    "        await p.turn_off()\n",
    "    \n",
    "    if (light.msg == \"off\"):\n",
    "        await p.turn_off()\n",
    "\n",
    "if __name__ == '__main__':\n",
    "    main()\n",
    "    time.sleep(5)\n",
    "    await call()"
   ]
  }
 ],
 "metadata": {
  "kernelspec": {
   "display_name": "Python 3 (ipykernel)",
   "language": "python",
   "name": "python3"
  },
  "language_info": {
   "codemirror_mode": {
    "name": "ipython",
    "version": 3
   },
   "file_extension": ".py",
   "mimetype": "text/x-python",
   "name": "python",
   "nbconvert_exporter": "python",
   "pygments_lexer": "ipython3",
   "version": "3.9.6"
  }
 },
 "nbformat": 4,
 "nbformat_minor": 5
}
